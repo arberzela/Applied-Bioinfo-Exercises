{
 "cells": [
  {
   "cell_type": "markdown",
   "metadata": {},
   "source": [
    "#### The 5th exercise sheet will introduce Biopython and should be returned to us not later than the 10.07.2016. Good luck! "
   ]
  },
  {
   "cell_type": "markdown",
   "metadata": {},
   "source": [
    " "
   ]
  },
  {
   "cell_type": "code",
   "execution_count": 1,
   "metadata": {
    "collapsed": false
   },
   "outputs": [
    {
     "name": "stdout",
     "output_type": "stream",
     "text": [
      "Populating the interactive namespace from numpy and matplotlib\n"
     ]
    }
   ],
   "source": [
    "%pylab inline"
   ]
  },
  {
   "cell_type": "markdown",
   "metadata": {},
   "source": [
    "# Managing biological data with Biopython"
   ]
  },
  {
   "cell_type": "markdown",
   "metadata": {},
   "source": [
    "During the last exercises you have learned a lot about python in general and how to use it to process FASTA files and plot images. In this exercise you we will use a new very powerful library called biopython that makes all of that even simpler and more robust.\n",
    "http://biopython.org"
   ]
  },
  {
   "cell_type": "raw",
   "metadata": {},
   "source": [
    "Task 01: Install biopython (Linux: pip install biopthyon)"
   ]
  },
  {
   "cell_type": "markdown",
   "metadata": {},
   "source": [
    "### Working with sequences"
   ]
  },
  {
   "cell_type": "markdown",
   "metadata": {},
   "source": [
    "The Seq object is Biopython's main representation of nucleotide or protein sequences. \n",
    "You can use it like a normal python string, but it also has additional informations, like an alphabet. Its constructor is available in the Bio.Seq module."
   ]
  },
  {
   "cell_type": "code",
   "execution_count": 1,
   "metadata": {
    "collapsed": false
   },
   "outputs": [],
   "source": [
    "from Bio.Seq import Seq"
   ]
  },
  {
   "cell_type": "markdown",
   "metadata": {},
   "source": [
    "Let's make our first Seq object."
   ]
  },
  {
   "cell_type": "code",
   "execution_count": 3,
   "metadata": {
    "collapsed": false
   },
   "outputs": [],
   "source": [
    "my_seq = Seq('gatacagatagaaaggtt')"
   ]
  },
  {
   "cell_type": "code",
   "execution_count": 4,
   "metadata": {
    "collapsed": false
   },
   "outputs": [
    {
     "data": {
      "text/plain": [
       "Seq('gatacagatagaaaggtt', Alphabet())"
      ]
     },
     "execution_count": 4,
     "metadata": {},
     "output_type": "execute_result"
    }
   ],
   "source": [
    "my_seq"
   ]
  },
  {
   "cell_type": "code",
   "execution_count": 5,
   "metadata": {
    "collapsed": false
   },
   "outputs": [
    {
     "data": {
      "text/plain": [
       "Seq('gatacagatagaaaggtt', DNAAlphabet())"
      ]
     },
     "execution_count": 5,
     "metadata": {},
     "output_type": "execute_result"
    }
   ],
   "source": [
    "from Bio.Alphabet import generic_dna\n",
    "my_dna = Seq('gatacagatagaaaggtt', generic_dna)\n",
    "my_dna"
   ]
  },
  {
   "cell_type": "markdown",
   "metadata": {},
   "source": [
    "Notice the difference between both sequences? The second one has an explicit alphabet information. \n",
    "Biopython never tries to guess what alphabet of your sequence, it has to be explicit stated  by yourself.\n"
   ]
  },
  {
   "cell_type": "raw",
   "metadata": {},
   "source": [
    "Task 02: Create a RNA sequence object. (1 point)"
   ]
  },
  {
   "cell_type": "code",
   "execution_count": 6,
   "metadata": {
    "collapsed": false
   },
   "outputs": [
    {
     "data": {
      "text/plain": [
       "Seq('gauacagauagaaagguu', Alphabet())"
      ]
     },
     "execution_count": 6,
     "metadata": {},
     "output_type": "execute_result"
    }
   ],
   "source": [
    "my_rna = Seq('gauacagauagaaagguu')\n",
    "my_rna"
   ]
  },
  {
   "cell_type": "markdown",
   "metadata": {},
   "source": [
    "The Sequence object has many useful methods, many of them are derived from the main python string object, that you already know."
   ]
  },
  {
   "cell_type": "code",
   "execution_count": 7,
   "metadata": {
    "collapsed": false
   },
   "outputs": [
    {
     "name": "stdout",
     "output_type": "stream",
     "text": [
      "False\n"
     ]
    },
    {
     "data": {
      "text/plain": [
       "Seq('gatacagatagaaaggttgatacagatagaaaggtt', DNAAlphabet())"
      ]
     },
     "execution_count": 7,
     "metadata": {},
     "output_type": "execute_result"
    }
   ],
   "source": [
    "my_dna.upper()\n",
    "print (my_dna.endswith('N'))\n",
    "my_dna + my_dna"
   ]
  },
  {
   "cell_type": "raw",
   "metadata": {},
   "source": [
    "Task 03: Read the API documentation of the Sequence object and get an impression what is possible with it. Play around with at least 3 different methods and describe what they are doing. (3 point)"
   ]
  },
  {
   "cell_type": "code",
   "execution_count": 8,
   "metadata": {
    "collapsed": false
   },
   "outputs": [
    {
     "data": {
      "text/plain": [
       "(Seq('aacctttctatctgtatc', DNAAlphabet()),\n",
       " Seq('gauacagauagaaagguu', RNAAlphabet()),\n",
       " Seq('DTDRKV', ExtendedIUPACProtein()))"
      ]
     },
     "execution_count": 8,
     "metadata": {},
     "output_type": "execute_result"
    }
   ],
   "source": [
    "template_dna = my_dna.reverse_complement() # returns the reverse complement of the sequence\n",
    "messenger_rna = my_dna.transcribe() # transcribe the coding strand into the corresponding mRNA\n",
    "amino_acids = messenger_rna.translate() # translate mRNA to the corresponding amino acids\n",
    "template_dna, messenger_rna, amino_acids"
   ]
  },
  {
   "cell_type": "raw",
   "metadata": {},
   "source": [
    "Task 04: (5 points)\n",
    "    - Download the protein myoglobin in ipython (MYG_HUMAN)\n",
    "    - Describe briefly what Myoglobin is\n",
    "    - Calculate the seq-length of the protein\n",
    "    - Calculate the amino acid distribution and plot it\n",
    "    - Calculate the overall weight of that protein\n",
    "\n",
    "    (Hint: SeqIO modul and ProteinAnalysis() class)"
   ]
  },
  {
   "cell_type": "code",
   "execution_count": 9,
   "metadata": {
    "collapsed": false
   },
   "outputs": [],
   "source": [
    "# Download the protein myoglobin in ipython (MYG_HUMAN)\n",
    "import requests\n",
    "\n",
    "# create a new file and write the content from the given url, which contains the myoglobin protein sequence.\n",
    "response = requests.get(\"http://www.ncbi.nlm.nih.gov/sviewer/viewer.cgi?tool=portal&sendto=on&log$=seqview&db=protein&dopt=fasta&sort=&val=127661&from=begin&to=end&extrafeat=984\", stream=True)\n",
    "with open(\"MYG_HUMAN.fasta\", \"wb\") as file:\n",
    "    for data in response:\n",
    "        file.write(data)\n",
    "file.close()"
   ]
  },
  {
   "cell_type": "raw",
   "metadata": {},
   "source": [
    "- Describe briefly what Myoglobin is.\n",
    "Myoglobin is a protein that binds iron and oxygen in the muscle tissues of almost all mammals. Therefore, like hemoglobin it is involved in the transportation of oxygen to cells, but it can only bind one oxygen molecule. It allows organisms to hold their breath for a longer time if its concentration is high in the muscles."
   ]
  },
  {
   "cell_type": "code",
   "execution_count": 10,
   "metadata": {
    "collapsed": false
   },
   "outputs": [
    {
     "name": "stdout",
     "output_type": "stream",
     "text": [
      "The lenght of the protein is 154 amino acids.\n"
     ]
    }
   ],
   "source": [
    "# Calculate the seq-length of the protein.\n",
    "from Bio import SeqIO\n",
    "for record in SeqIO.parse(\"MYG_HUMAN.fasta\", \"fasta\"):\n",
    "    print(\"The lenght of the protein is %i amino acids.\" % (len(record)))"
   ]
  },
  {
   "cell_type": "code",
   "execution_count": 11,
   "metadata": {
    "collapsed": false
   },
   "outputs": [
    {
     "name": "stdout",
     "output_type": "stream",
     "text": [
      "E: 9.090909004211426 %\n",
      "K: 12.98701286315918 %\n",
      "N: 1.948051929473877 %\n",
      "H: 5.844155788421631 %\n",
      "A: 7.792207717895508 %\n",
      "S: 4.545454502105713 %\n",
      "R: 1.298701286315918 %\n",
      "G: 9.740260124206543 %\n",
      "V: 4.545454502105713 %\n",
      "I: 5.194805145263672 %\n",
      "T: 2.597402572631836 %\n",
      "Q: 4.545454502105713 %\n",
      "D: 5.194805145263672 %\n",
      "M: 2.597402572631836 %\n",
      "P: 3.246753215789795 %\n",
      "C: 0.649350643157959 %\n",
      "F: 4.545454502105713 %\n",
      "Y: 1.298701286315918 %\n",
      "L: 11.038961410522461 %\n",
      "W: 1.298701286315918 %\n"
     ]
    },
    {
     "data": {
      "image/png": "[encoded data removed]",
      "text/plain": [
       "<matplotlib.figure.Figure at 0x2693f7f84e0>"
      ]
     },
     "metadata": {},
     "output_type": "display_data"
    }
   ],
   "source": [
    "# Calculate the amino acid distribution and plot it.\n",
    "from Bio.SeqUtils import ProtParam\n",
    "import string\n",
    "sequence = ProtParam.ProteinAnalysis(str(record.seq))\n",
    "distr = sequence.get_amino_acids_percent()\n",
    "for i in distr:\n",
    "    print(\"{}: {} %\".format(i, np.float32(distr.get(i)*100)))\n",
    "X = np.arange(len(distr))\n",
    "plt.bar(X, distr.values(), align='center')\n",
    "plt.xticks(X, distr.keys())\n",
    "ymax = max(distr.values())\n",
    "plt.ylim(0, ymax + 0.01)\n",
    "xlabel(\"Amino Acid\")\n",
    "ylabel(\"Percentage\")\n",
    "title(\"Amino Acids Distribution\")\n",
    "plt.show()"
   ]
  },
  {
   "cell_type": "code",
   "execution_count": 12,
   "metadata": {
    "collapsed": false
   },
   "outputs": [
    {
     "name": "stdout",
     "output_type": "stream",
     "text": [
      "The overall weight of this protein is 17183.597500.\n"
     ]
    }
   ],
   "source": [
    "# Calculate the overall weight of that protein.\n",
    "print(\"The overall weight of this protein is %f.\"%(sequence.molecular_weight()))"
   ]
  },
  {
   "cell_type": "markdown",
   "metadata": {},
   "source": [
    "With biopython you can read many different formats, not only FASTA. For a more or less complete list, have a look at http://biopython.org/wiki/SeqIO#File_Formats."
   ]
  },
  {
   "cell_type": "markdown",
   "metadata": {},
   "source": [
    "### Let's study the microbe of the year **Nostoc** (CP002059.1)!"
   ]
  },
  {
   "cell_type": "raw",
   "metadata": {},
   "source": [
    "Task 05: Retrieve the genbank entry from Nostoc azollae (using biopython Entrez module) (3 points)"
   ]
  },
  {
   "cell_type": "code",
   "execution_count": 13,
   "metadata": {
    "collapsed": false
   },
   "outputs": [],
   "source": [
    "from Bio import Entrez\n",
    "Entrez.email = \"arber.zela21@gmail.com\"\n",
    "# fetch the data for Nostoc azollae:\n",
    "handle = Entrez.efetch(db='nucleotide', id='CP002059.1', rettype='gb')\n",
    "# create a new file to write the record and store it localy:\n",
    "file = open('Nostoc azollae.gb', 'w')\n",
    "file.write(handle.read())\n",
    "handle.close()\n",
    "file.close()"
   ]
  },
  {
   "cell_type": "raw",
   "metadata": {},
   "source": [
    "Task 06: Study the datastructure you will get back from the genbank parser! What are records and features. Give an example in which case we need more than one record. (3 points)"
   ]
  },
  {
   "cell_type": "markdown",
   "metadata": {
    "collapsed": false
   },
   "source": [
    "Features give the information about genes, as well as significant regions in the sequence, such as CDS for proteins and RNA molecules, UTR, variations, etc. The record includes all the information about the organism in the genbank file, such as the locus, definition, accession number, version, references and also some comments. One accession number corresponds to each record and the accession number is kept unchanged even if the author modifies the record. However, sometimes if the author combines previous sequences, or if some older version of a record is replaced with a new version, a new accession number is needed. So we need more than one record when we have more than one version. Also we include records of different organisms but which belong to the same subfamily let's say into one genbank file."
   ]
  },
  {
   "cell_type": "raw",
   "metadata": {},
   "source": [
    "Task 07: How many CDS and genes are annotated? Why are these numbers so different? (5 points)"
   ]
  },
  {
   "cell_type": "code",
   "execution_count": 14,
   "metadata": {
    "collapsed": false
   },
   "outputs": [
    {
     "name": "stdout",
     "output_type": "stream",
     "text": [
      "Number of CDS: 3589\n",
      "Number of genes: 5280\n"
     ]
    }
   ],
   "source": [
    "record = SeqIO.read(open(\"Nostoc azollae.gb\"), \"genbank\")\n",
    "genes, CDS = 0, 0\n",
    "for feature in record.features:\n",
    "    if feature.type == 'CDS':\n",
    "        CDS += 1\n",
    "    elif feature.type == 'gene':\n",
    "        genes += 1\n",
    "print(\"Number of CDS: %i\\nNumber of genes: %i\"%(CDS, genes))"
   ]
  },
  {
   "cell_type": "markdown",
   "metadata": {
    "collapsed": false
   },
   "source": [
    "3589 CDS and 5280 genes are annotated. CDS comprises only the protein coding sequence, meanwhile the genes include all DNA sequence responsible for all its RNA's products. In the record we can see also genes responsible for some hypothetical proteins, so this is the reason why we have more genes than CDS."
   ]
  },
  {
   "cell_type": "raw",
   "metadata": {},
   "source": [
    "Task 08: How many tRNA's, rRNA's and ncRNA's are annotated? [hint: you can use the the collections module to count] (6 points)"
   ]
  },
  {
   "cell_type": "code",
   "execution_count": 15,
   "metadata": {
    "collapsed": false
   },
   "outputs": [
    {
     "name": "stdout",
     "output_type": "stream",
     "text": [
      "Number of tRNA's: 44\n",
      "Number of rRNA's: 12\n",
      "Number of ncRNA's: 2\n"
     ]
    }
   ],
   "source": [
    "tRNA, rRNA, ncRNA = 0, 0, 0\n",
    "for feature in record.features:\n",
    "    if feature.type == 'tRNA':\n",
    "        tRNA += 1\n",
    "    elif feature.type == 'rRNA':\n",
    "        rRNA += 1\n",
    "    elif feature.type == 'ncRNA':\n",
    "        ncRNA += 1\n",
    "print(\"Number of tRNA's: %i\\nNumber of rRNA's: %i\\nNumber of ncRNA's: %i\"%(tRNA, rRNA, ncRNA))"
   ]
  },
  {
   "cell_type": "raw",
   "metadata": {},
   "source": [
    "Task 09: Calculate the max, min and mean from the gene sequence length distribution. (3 points)"
   ]
  },
  {
   "cell_type": "code",
   "execution_count": 16,
   "metadata": {
    "collapsed": false
   },
   "outputs": [
    {
     "name": "stdout",
     "output_type": "stream",
     "text": [
      "The maximum gene length is 9876.\n",
      "The minimum gene length is 69.\n",
      "The mean of the gene length distribution is 832.\n"
     ]
    }
   ],
   "source": [
    "list = []\n",
    "for feature in record.features:\n",
    "    if feature.type == 'gene':\n",
    "        list.append(len(feature.extract(record.seq)))     \n",
    "gene_length = np.array(list)\n",
    "print(\"The maximum gene length is %i.\"%(np.max(gene_length)))\n",
    "print(\"The minimum gene length is %i.\"%(np.min(gene_length)))\n",
    "print(\"The mean of the gene length distribution is %i.\"%(np.mean(gene_length)))"
   ]
  },
  {
   "cell_type": "markdown",
   "metadata": {},
   "source": [
    "Another very important quantity of a nucleotide sequence is the GC% content.\n",
    "You might want to look at the GC% of all the genes in a bacterial genome for example, \n",
    "and investigate any outliers which could have been recently acquired by horizontal gene transfer. "
   ]
  },
  {
   "cell_type": "raw",
   "metadata": {},
   "source": [
    "Task 10: Calculate the GC% content of every gene included in Nostoc and plot it in a meaningful graph. (5 points)"
   ]
  },
  {
   "cell_type": "code",
   "execution_count": 17,
   "metadata": {
    "collapsed": false
   },
   "outputs": [
    {
     "data": {
      "image/png": "[encoded data removed]",
      "text/plain": [
       "<matplotlib.figure.Figure at 0x2694016a128>"
      ]
     },
     "metadata": {},
     "output_type": "display_data"
    }
   ],
   "source": [
    "from Bio.SeqUtils import GC\n",
    "import matplotlib.pyplot as plt\n",
    "record = SeqIO.read(open(\"Nostoc azollae.gb\"), \"genbank\")\n",
    "GC_content = []\n",
    "for feature in record.features:\n",
    "    if feature.type == 'gene':\n",
    "        GC_content.append(GC(feature.extract(record.seq)))  # find the GC% for the gene sequence and append it to the list.\n",
    "GC_sorted_content = sorted(GC_content)  # sort the list.\n",
    "plt.plot(range(len(GC_content)), GC_content, range(len(GC_content)), GC_sorted_content, 'r')  # plot the GC%\n",
    "plt.title(\"%i genes\\nGC%% %0.1f to %0.1f\" % (len(GC_content),min(GC_content),max(GC_content)))\n",
    "plt.xlabel('Gene Nr.')\n",
    "plt.ylabel('GC%')\n",
    "plt.xlim([0, len(GC_content)])\n",
    "plt.show()"
   ]
  },
  {
   "cell_type": "raw",
   "metadata": {},
   "source": [
    "Task 11: Compare the GC% content of Nostoc with the GC% content of Methanopyrus kandleri (NC_003551.1). Don't repeat yourself, reuse your code from Task 10. Prepare a plot in which both GC-plots are displayed next to each other. Explain the results. \n",
    "(5 points)"
   ]
  },
  {
   "cell_type": "code",
   "execution_count": 18,
   "metadata": {
    "collapsed": false
   },
   "outputs": [
    {
     "data": {
      "image/png": "[encoded data removed]",
      "text/plain": [
       "<matplotlib.figure.Figure at 0x269413e83c8>"
      ]
     },
     "metadata": {},
     "output_type": "display_data"
    }
   ],
   "source": [
    "# !!THE ACCESSION NUMBER HAS BEEN CHANGED!!\n",
    "# fetch the data for Methanopyrus kandleri:\n",
    "handle = Entrez.efetch(db='nucleotide', id='AE009439.1', rettype=\"gb\", retmode=\"text\")\n",
    "# create a new file to write the record and store it localy:\n",
    "file = open('Methanopyrus kandleri.gb', 'w')\n",
    "file.write(handle.read())\n",
    "handle.close()\n",
    "file.close()\n",
    "\n",
    "record_2 = SeqIO.read(open(\"Methanopyrus kandleri.gb\"), \"genbank\")\n",
    "GC_content_2 = []\n",
    "for feature in record_2.features:\n",
    "    if feature.type == 'gene':\n",
    "        GC_content_2.append(GC(feature.extract(record_2.seq)))  # find the GC% for the gene sequence and append it to the list.\n",
    "GC_sorted_content_2 = sorted(GC_content_2)  # sort the list.\n",
    "fig, axes = plt.subplots(1, 2, figsize=(16,4))\n",
    "# plot the GC% for Nostoc azollae.\n",
    "axes[0].plot(range(len(GC_content)), GC_content, range(len(GC_content)), GC_sorted_content, 'r')\n",
    "axes[0].set_title(\"%i genes\\nGC%% %0.1f to %0.1f\" % (len(GC_content),min(GC_content),max(GC_content)))\n",
    "axes[0].set_xlim([0, len(GC_content)])\n",
    "axes[0].set_xlabel('Gene Nr.')\n",
    "axes[0].set_ylabel('GC%')\n",
    "# plot the GC% for Methanopyrus kandleri.\n",
    "axes[1].plot(range(len(GC_content_2)), GC_content_2, range(len(GC_content_2)), GC_sorted_content_2, 'r')\n",
    "axes[1].set_title(\"%i genes\\nGC%% %0.1f to %0.1f\" % (len(GC_content_2),min(GC_content_2),max(GC_content_2)))\n",
    "axes[1].set_xlim([0, len(GC_content_2)])\n",
    "axes[1].set_xlabel('Gene Nr.')\n",
    "axes[1].set_ylabel('GC%')\n",
    "plt.show()"
   ]
  },
  {
   "cell_type": "markdown",
   "metadata": {},
   "source": [
    "Methanopyrus kandleri has less genes than Nostoc azollae but the GC content is mainly higher for each gene."
   ]
  },
  {
   "cell_type": "raw",
   "metadata": {},
   "source": [
    "Task 12: Reimplement your gen prediction function from excercise 4 with your fresh biopython knowlegde. Try to be efficient and reuse code und functions provided by biopython and other libraries if needed. Download the NC_001422.1 entry via biopython.\n",
    "\n",
    "(10 points)\n",
    "\n",
    "(Write a method that reads the genome sequence in fasta format, calculates all possible ORFs, and returns a fasta file that contains the ORF DNA sequences and the reading frame number, the starting position i, the ending position j and the length l of each in the header. How many ORFs do you find in total and in each reading frame separately?)\n"
   ]
  },
  {
   "cell_type": "code",
   "execution_count": 61,
   "metadata": {
    "collapsed": false
   },
   "outputs": [
    {
     "name": "stdout",
     "output_type": "stream",
     "text": [
      "> Reading frame 1: 42 ORF sequences.\n",
      "> Reading frame 2: 24 ORF sequences.\n",
      "> Reading frame 3: 38 ORF sequences.\n",
      "> Total number of ORF found: 104\n"
     ]
    },
    {
     "name": "stderr",
     "output_type": "stream",
     "text": [
      "C:\\Users\\user\\Anaconda3\\lib\\site-packages\\Bio\\Seq.py:2041: BiopythonWarning: Partial codon, len(sequence) not a multiple of three. Explicitly trim the sequence or add trailing N before translation. This may become an error in future.\n",
      "  BiopythonWarning)\n"
     ]
    }
   ],
   "source": [
    "from Bio import SeqIO, Entrez\n",
    "handle_2 = Entrez.efetch(db='nucleotide', id='NC_001422.1', rettype='fasta')\n",
    "# create a new file to write the record and store it localy:\n",
    "file = open('NC_001422.1.fasta', 'w')\n",
    "file.write(handle_2.read())\n",
    "handle_2.close()\n",
    "file.close()\n",
    "\n",
    "record = SeqIO.read(\"NC_001422.1.fasta\", \"fasta\")\n",
    "seq = record.seq\n",
    "\n",
    "# creates a new fasta file as output and writes the ORF found in the input file.\n",
    "ORFnumber = [0, 0, 0]\n",
    "output = open('ORF.fasta', 'w')\n",
    "\n",
    "for frame in range(3):\n",
    "    # translate the nucleotide sequence into the corresponding amino acids.\n",
    "    trans = str(seq[frame:].translate())\n",
    "    start, end = 0, 0\n",
    "    while start < len(trans):\n",
    "        start = trans.find(\"M\", start)\n",
    "        end = trans.find(\"*\", start)\n",
    "        # if no more stop codons found go to the next frame.\n",
    "        if end == -1:\n",
    "            break\n",
    "        # if length of sequence found more than 27 nucleotides (excluding stop codon) ORF found.\n",
    "        elif end - start >= 9:\n",
    "            start_pos = frame + start * 3\n",
    "            end_pos = frame + end * 3 + 3\n",
    "            orf_len = end_pos - start_pos\n",
    "            output.write('>frame:{} |start position:{} |end position:{} |lenght of ORF:{} \\n'.format(frame + 1, start_pos, end_pos, orf_len))\n",
    "            output.write('{} \\n\\n'.format(seq[start_pos:end_pos]))\n",
    "            ORFnumber[frame] += 1\n",
    "            start = start + 1\n",
    "            continue\n",
    "        # else start searching after the stop codon for the next start codon.\n",
    "        start = end + 1\n",
    "\n",
    "# print the total number of ORF and for each reading frame.\n",
    "for i in range(3):\n",
    "    print('> Reading frame {}: {} ORF sequences.'.format(i + 1, ORFnumber[i]))\n",
    "print('> Total number of ORF found: {}'.format(sum(ORFnumber)))\n",
    "    \n",
    "output.close()"
   ]
  }
 ],
 "metadata": {
  "kernelspec": {
   "display_name": "Python 3",
   "language": "python",
   "name": "python3"
  },
  "language_info": {
   "codemirror_mode": {
    "name": "ipython",
    "version": 3
   },
   "file_extension": ".py",
   "mimetype": "text/x-python",
   "name": "python",
   "nbconvert_exporter": "python",
   "pygments_lexer": "ipython3",
   "version": "3.5.1"
  }
 },
 "nbformat": 4,
 "nbformat_minor": 0
}
